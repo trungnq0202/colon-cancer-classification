{
 "cells": [
  {
   "cell_type": "markdown",
   "id": "5cfa049f",
   "metadata": {},
   "source": [
    "## Create subdirectory containing images for each class"
   ]
  },
  {
   "cell_type": "code",
   "execution_count": 34,
   "id": "8d8c4db3",
   "metadata": {},
   "outputs": [],
   "source": [
    "import os\n",
    "import pandas as pd"
   ]
  },
  {
   "cell_type": "code",
   "execution_count": 7,
   "id": "aac6ba1d",
   "metadata": {},
   "outputs": [],
   "source": [
    "main_data = pd.read_csv('data/data_labels_mainData.csv')\n",
    "extra_data = pd.read_csv('data/data_labels_extraData.csv')"
   ]
  },
  {
   "cell_type": "code",
   "execution_count": 11,
   "id": "ed402cc3",
   "metadata": {},
   "outputs": [
    {
     "data": {
      "text/plain": [
       "['fibroblast', 'inflammatory', 'others', 'epithelial']"
      ]
     },
     "execution_count": 11,
     "metadata": {},
     "output_type": "execute_result"
    }
   ],
   "source": [
    "list(main_data.cellTypeName.unique())"
   ]
  },
  {
   "cell_type": "code",
   "execution_count": 18,
   "id": "b2a69391",
   "metadata": {},
   "outputs": [],
   "source": [
    "cellTypeNametoIdx = {'fibroblast':0, 'inflammatory':1, 'epithelial':2, 'others':3}"
   ]
  },
  {
   "cell_type": "code",
   "execution_count": 21,
   "id": "5ecab5ad",
   "metadata": {},
   "outputs": [],
   "source": [
    "main_data.drop(['InstanceID', 'patientID', 'cellTypeName'], inplace=True, axis=1)"
   ]
  },
  {
   "cell_type": "code",
   "execution_count": 27,
   "id": "6a589abe",
   "metadata": {},
   "outputs": [],
   "source": [
    "fibroblast_imgs = list(main_data.ImageName[main_data.cellType == 0])\n",
    "inflamatory_imgs = list(main_data.ImageName[main_data.cellType == 1])\n",
    "epithelial_imgs = list(main_data.ImageName[main_data.cellType == 2])\n",
    "others_imgs = list(main_data.ImageName[main_data.cellType == 3])"
   ]
  },
  {
   "cell_type": "code",
   "execution_count": 30,
   "id": "ffe8c7ff",
   "metadata": {},
   "outputs": [
    {
     "name": "stdout",
     "output_type": "stream",
     "text": [
      "1888\n",
      "2543\n",
      "4079\n",
      "1386\n",
      "9896\n"
     ]
    }
   ],
   "source": [
    "print(len(fibroblast_imgs))\n",
    "print(len(inflamatory_imgs))\n",
    "print(len(epithelial_imgs))\n",
    "print(len(others_imgs))\n",
    "print(len(fibroblast_imgs) + len(inflamatory_imgs) + len(epithelial_imgs) + len(others_imgs))"
   ]
  },
  {
   "cell_type": "code",
   "execution_count": 46,
   "id": "b1223ea3",
   "metadata": {},
   "outputs": [],
   "source": [
    "CUR_DIR = os.getcwd()\n",
    "DATA_DIR = '/data'\n",
    "TRAINING_DIR = '/training'\n",
    "TESTING_DIR = '/testing'"
   ]
  },
  {
   "cell_type": "markdown",
   "id": "a755e555",
   "metadata": {},
   "source": [
    "## Create data directory for cell type classification problem"
   ]
  },
  {
   "cell_type": "code",
   "execution_count": 47,
   "id": "1b070306",
   "metadata": {},
   "outputs": [],
   "source": [
    "CELL_TYPE_DIR = '/cell_type'"
   ]
  },
  {
   "cell_type": "code",
   "execution_count": 54,
   "id": "6cdab0ea",
   "metadata": {},
   "outputs": [],
   "source": [
    "FIBROBLAST_SUB_DIR = '/0'\n",
    "INFLAMATORY_SUB_DIR = '/1'\n",
    "EPITHELIAL_SUB_DIR = '/2'\n",
    "OTHERS_SUB_DIR = '/3'"
   ]
  },
  {
   "cell_type": "code",
   "execution_count": null,
   "id": "f86b8737",
   "metadata": {},
   "outputs": [],
   "source": []
  },
  {
   "cell_type": "markdown",
   "id": "25f32cef",
   "metadata": {},
   "source": [
    "## Create data directory for isCancerous classification problem|"
   ]
  },
  {
   "cell_type": "code",
   "execution_count": 43,
   "id": "5d8429c2",
   "metadata": {},
   "outputs": [],
   "source": [
    "IS_CANCEROUS_DIR = '/is_cancerous'"
   ]
  },
  {
   "cell_type": "code",
   "execution_count": 50,
   "id": "f4b88a61",
   "metadata": {},
   "outputs": [],
   "source": [
    "POSITIVE_CANCEROUS_DIR = '/0'\n",
    "NEGATIVE_CANCEROUS_DIR = '/1'"
   ]
  },
  {
   "cell_type": "code",
   "execution_count": null,
   "id": "8fe467e5",
   "metadata": {},
   "outputs": [],
   "source": []
  },
  {
   "cell_type": "code",
   "execution_count": null,
   "id": "06803a41",
   "metadata": {},
   "outputs": [],
   "source": []
  },
  {
   "cell_type": "code",
   "execution_count": 22,
   "id": "73aa1d84",
   "metadata": {},
   "outputs": [
    {
     "data": {
      "text/html": [
       "<div>\n",
       "<style scoped>\n",
       "    .dataframe tbody tr th:only-of-type {\n",
       "        vertical-align: middle;\n",
       "    }\n",
       "\n",
       "    .dataframe tbody tr th {\n",
       "        vertical-align: top;\n",
       "    }\n",
       "\n",
       "    .dataframe thead th {\n",
       "        text-align: right;\n",
       "    }\n",
       "</style>\n",
       "<table border=\"1\" class=\"dataframe\">\n",
       "  <thead>\n",
       "    <tr style=\"text-align: right;\">\n",
       "      <th></th>\n",
       "      <th>ImageName</th>\n",
       "      <th>cellType</th>\n",
       "      <th>isCancerous</th>\n",
       "    </tr>\n",
       "  </thead>\n",
       "  <tbody>\n",
       "    <tr>\n",
       "      <th>0</th>\n",
       "      <td>22405.png</td>\n",
       "      <td>0</td>\n",
       "      <td>0</td>\n",
       "    </tr>\n",
       "    <tr>\n",
       "      <th>1</th>\n",
       "      <td>22406.png</td>\n",
       "      <td>0</td>\n",
       "      <td>0</td>\n",
       "    </tr>\n",
       "    <tr>\n",
       "      <th>2</th>\n",
       "      <td>22407.png</td>\n",
       "      <td>0</td>\n",
       "      <td>0</td>\n",
       "    </tr>\n",
       "    <tr>\n",
       "      <th>3</th>\n",
       "      <td>22408.png</td>\n",
       "      <td>0</td>\n",
       "      <td>0</td>\n",
       "    </tr>\n",
       "    <tr>\n",
       "      <th>4</th>\n",
       "      <td>22409.png</td>\n",
       "      <td>0</td>\n",
       "      <td>0</td>\n",
       "    </tr>\n",
       "    <tr>\n",
       "      <th>...</th>\n",
       "      <td>...</td>\n",
       "      <td>...</td>\n",
       "      <td>...</td>\n",
       "    </tr>\n",
       "    <tr>\n",
       "      <th>9891</th>\n",
       "      <td>1625.png</td>\n",
       "      <td>2</td>\n",
       "      <td>1</td>\n",
       "    </tr>\n",
       "    <tr>\n",
       "      <th>9892</th>\n",
       "      <td>1626.png</td>\n",
       "      <td>2</td>\n",
       "      <td>1</td>\n",
       "    </tr>\n",
       "    <tr>\n",
       "      <th>9893</th>\n",
       "      <td>1627.png</td>\n",
       "      <td>2</td>\n",
       "      <td>1</td>\n",
       "    </tr>\n",
       "    <tr>\n",
       "      <th>9894</th>\n",
       "      <td>1628.png</td>\n",
       "      <td>2</td>\n",
       "      <td>1</td>\n",
       "    </tr>\n",
       "    <tr>\n",
       "      <th>9895</th>\n",
       "      <td>1629.png</td>\n",
       "      <td>2</td>\n",
       "      <td>1</td>\n",
       "    </tr>\n",
       "  </tbody>\n",
       "</table>\n",
       "<p>9896 rows × 3 columns</p>\n",
       "</div>"
      ],
      "text/plain": [
       "      ImageName  cellType  isCancerous\n",
       "0     22405.png         0            0\n",
       "1     22406.png         0            0\n",
       "2     22407.png         0            0\n",
       "3     22408.png         0            0\n",
       "4     22409.png         0            0\n",
       "...         ...       ...          ...\n",
       "9891   1625.png         2            1\n",
       "9892   1626.png         2            1\n",
       "9893   1627.png         2            1\n",
       "9894   1628.png         2            1\n",
       "9895   1629.png         2            1\n",
       "\n",
       "[9896 rows x 3 columns]"
      ]
     },
     "execution_count": 22,
     "metadata": {},
     "output_type": "execute_result"
    }
   ],
   "source": [
    "main_data"
   ]
  },
  {
   "cell_type": "code",
   "execution_count": 29,
   "id": "7a9a8509",
   "metadata": {},
   "outputs": [
    {
     "data": {
      "text/plain": [
       "(9896, 3)"
      ]
     },
     "execution_count": 29,
     "metadata": {},
     "output_type": "execute_result"
    }
   ],
   "source": [
    "main_data.shape"
   ]
  },
  {
   "cell_type": "code",
   "execution_count": null,
   "id": "372352b8",
   "metadata": {},
   "outputs": [],
   "source": []
  },
  {
   "cell_type": "code",
   "execution_count": null,
   "id": "533b8eed",
   "metadata": {},
   "outputs": [],
   "source": []
  },
  {
   "cell_type": "code",
   "execution_count": null,
   "id": "855cef25",
   "metadata": {},
   "outputs": [],
   "source": []
  },
  {
   "cell_type": "code",
   "execution_count": null,
   "id": "7e5cc45f",
   "metadata": {},
   "outputs": [],
   "source": []
  },
  {
   "cell_type": "code",
   "execution_count": null,
   "id": "5e94d595",
   "metadata": {},
   "outputs": [],
   "source": []
  },
  {
   "cell_type": "code",
   "execution_count": null,
   "id": "97f96c9a",
   "metadata": {},
   "outputs": [],
   "source": []
  },
  {
   "cell_type": "code",
   "execution_count": null,
   "id": "f2ecccf5",
   "metadata": {},
   "outputs": [],
   "source": []
  },
  {
   "cell_type": "code",
   "execution_count": null,
   "id": "12a6dd1c",
   "metadata": {},
   "outputs": [],
   "source": []
  },
  {
   "cell_type": "code",
   "execution_count": null,
   "id": "cb50573f",
   "metadata": {},
   "outputs": [],
   "source": []
  },
  {
   "cell_type": "code",
   "execution_count": null,
   "id": "6a4a6d0e",
   "metadata": {},
   "outputs": [],
   "source": []
  },
  {
   "cell_type": "code",
   "execution_count": null,
   "id": "c883f52a",
   "metadata": {},
   "outputs": [],
   "source": []
  }
 ],
 "metadata": {
  "kernelspec": {
   "display_name": "Python 3",
   "language": "python",
   "name": "python3"
  },
  "language_info": {
   "codemirror_mode": {
    "name": "ipython",
    "version": 3
   },
   "file_extension": ".py",
   "mimetype": "text/x-python",
   "name": "python",
   "nbconvert_exporter": "python",
   "pygments_lexer": "ipython3",
   "version": "3.8.6"
  }
 },
 "nbformat": 4,
 "nbformat_minor": 5
}
