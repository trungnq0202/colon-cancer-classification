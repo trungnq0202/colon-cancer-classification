{
 "cells": [
  {
   "cell_type": "markdown",
   "metadata": {},
   "source": [
    "## Create subdirectory containing images for each class"
   ]
  },
  {
   "cell_type": "code",
   "execution_count": 22,
   "metadata": {},
   "outputs": [],
   "source": [
    "import os\n",
    "import random\n",
    "import pandas as pd\n",
    "from shutil import copyfile\n"
   ]
  },
  {
   "cell_type": "code",
   "execution_count": 2,
   "metadata": {},
   "outputs": [],
   "source": [
    "main_data = pd.read_csv('data/data_labels_mainData.csv')\n",
    "extra_data = pd.read_csv('data/data_labels_extraData.csv')"
   ]
  },
  {
   "cell_type": "code",
   "execution_count": 3,
   "metadata": {},
   "outputs": [
    {
     "data": {
      "text/plain": [
       "['fibroblast', 'inflammatory', 'others', 'epithelial']"
      ]
     },
     "execution_count": 3,
     "metadata": {},
     "output_type": "execute_result"
    }
   ],
   "source": [
    "list(main_data.cellTypeName.unique())"
   ]
  },
  {
   "cell_type": "code",
   "execution_count": 4,
   "metadata": {},
   "outputs": [],
   "source": [
    "cellTypeNametoIdx = {'fibroblast':0, 'inflammatory':1, 'epithelial':2, 'others':3}"
   ]
  },
  {
   "cell_type": "code",
   "execution_count": 5,
   "metadata": {},
   "outputs": [],
   "source": [
    "main_data.drop(['InstanceID', 'patientID', 'cellTypeName'], inplace=True, axis=1)"
   ]
  },
  {
   "cell_type": "code",
   "execution_count": 6,
   "metadata": {},
   "outputs": [],
   "source": [
    "fibroblast_imgs = list(main_data.ImageName[main_data.cellType == 0])\n",
    "inflamatory_imgs = list(main_data.ImageName[main_data.cellType == 1])\n",
    "epithelial_imgs = list(main_data.ImageName[main_data.cellType == 2])\n",
    "others_imgs = list(main_data.ImageName[main_data.cellType == 3])"
   ]
  },
  {
   "cell_type": "code",
   "execution_count": 7,
   "metadata": {},
   "outputs": [
    {
     "name": "stdout",
     "output_type": "stream",
     "text": [
      "1888\n",
      "2543\n",
      "4079\n",
      "1386\n",
      "9896\n"
     ]
    }
   ],
   "source": [
    "print(len(fibroblast_imgs))\n",
    "print(len(inflamatory_imgs))\n",
    "print(len(epithelial_imgs))\n",
    "print(len(others_imgs))\n",
    "print(len(fibroblast_imgs) + len(inflamatory_imgs) + len(epithelial_imgs) + len(others_imgs))"
   ]
  },
  {
   "cell_type": "code",
   "execution_count": 8,
   "metadata": {},
   "outputs": [],
   "source": [
    "img_list = []\n",
    "#create list of img names for each class\n",
    "img_list.append(fibroblast_imgs)\n",
    "img_list.append(inflamatory_imgs)\n",
    "img_list.append(epithelial_imgs)\n",
    "img_list.append(others_imgs)"
   ]
  },
  {
   "cell_type": "markdown",
   "metadata": {},
   "source": [
    "## Create seperated directory for each class image data"
   ]
  },
  {
   "cell_type": "code",
   "execution_count": 9,
   "metadata": {},
   "outputs": [],
   "source": [
    "CUR_DIR = os.getcwd()\n",
    "DATA_DIR = '/data'\n",
    "TRAINING_DIR = '/training'\n",
    "TESTING_DIR = '/testing'\n",
    "IMG_SOURCE_DIR = CUR_DIR + DATA_DIR + '/patch_images'\n",
    "CELL_TYPE_DIR = '/cell_type'\n",
    "no_classes = 4"
   ]
  },
  {
   "cell_type": "markdown",
   "metadata": {},
   "source": [
    "## Create data directory for CELL TYPE classification problem"
   ]
  },
  {
   "cell_type": "markdown",
   "metadata": {},
   "source": [
    "## Create seperated directory for each class image data"
   ]
  },
  {
   "cell_type": "code",
   "execution_count": 10,
   "metadata": {},
   "outputs": [],
   "source": [
    "SOURCE_DIR = CUR_DIR + DATA_DIR + CELL_TYPE_DIR\n",
    "CELL_TYPE_SOURCE_DIR = SOURCE_DIR + '/source'\n",
    "FIBROBLAST_SUB_DIR = CELL_TYPE_SOURCE_DIR + '/0'\n",
    "INFLAMATORY_SUB_DIR = CELL_TYPE_SOURCE_DIR + '/1'\n",
    "EPITHELIAL_SUB_DIR = CELL_TYPE_SOURCE_DIR + '/2'\n",
    "OTHERS_SUB_DIR = CELL_TYPE_SOURCE_DIR + '/3'"
   ]
  },
  {
   "cell_type": "code",
   "execution_count": 11,
   "metadata": {},
   "outputs": [],
   "source": [
    "if not os.path.exists(SOURCE_DIR):\n",
    "    os.mkdir(SOURCE_DIR)\n",
    "if not os.path.exists(CELL_TYPE_SOURCE_DIR):\n",
    "    os.mkdir(CELL_TYPE_SOURCE_DIR)"
   ]
  },
  {
   "cell_type": "code",
   "execution_count": 12,
   "metadata": {},
   "outputs": [],
   "source": [
    "if not os.path.exists(FIBROBLAST_SUB_DIR):\n",
    "    os.mkdir(FIBROBLAST_SUB_DIR)\n",
    "if not os.path.exists(INFLAMATORY_SUB_DIR):\n",
    "    os.mkdir(INFLAMATORY_SUB_DIR)\n",
    "if not os.path.exists(EPITHELIAL_SUB_DIR):\n",
    "    os.mkdir(EPITHELIAL_SUB_DIR)\n",
    "if not os.path.exists(OTHERS_SUB_DIR):\n",
    "    os.mkdir(OTHERS_SUB_DIR)"
   ]
  },
  {
   "cell_type": "code",
   "execution_count": 13,
   "metadata": {},
   "outputs": [],
   "source": [
    "def copy_img_data(class_number):\n",
    "    img_name_list = img_list[class_number]\n",
    "    for i in range(len(img_name_list)):\n",
    "        copyfile(IMG_SOURCE_DIR + '/' + img_name_list[i], \n",
    "                 CELL_TYPE_SOURCE_DIR + '/' + str(class_number) + '/' + img_name_list[i])"
   ]
  },
  {
   "cell_type": "code",
   "execution_count": 14,
   "metadata": {},
   "outputs": [],
   "source": [
    "copy_img_data(0)\n",
    "copy_img_data(1)\n",
    "copy_img_data(2)\n",
    "copy_img_data(3)"
   ]
  },
  {
   "cell_type": "markdown",
   "metadata": {},
   "source": [
    "## split train/test directory for each class image data"
   ]
  },
  {
   "cell_type": "code",
   "execution_count": 15,
   "metadata": {},
   "outputs": [],
   "source": [
    "#create separate folder for training, including training data and validation data being splitted from source data\n",
    "TRAIN_DIR = SOURCE_DIR + TRAINING_DIR\n",
    "TEST_DIR = SOURCE_DIR + TESTING_DIR\n",
    "if not os.path.exists(TRAIN_DIR):\n",
    "    os.mkdir(TRAIN_DIR)\n",
    "if not os.path.exists(TEST_DIR):\n",
    "    os.mkdir(TEST_DIR)"
   ]
  },
  {
   "cell_type": "code",
   "execution_count": 16,
   "metadata": {},
   "outputs": [],
   "source": [
    "for i in range(no_classes):\n",
    "    train_dir_class_i = os.path.join(TRAIN_DIR, str(i))\n",
    "    test_dir_class_i = os.path.join(TEST_DIR, str(i))\n",
    "\n",
    "    if not os.path.exists(train_dir_class_i):\n",
    "        os.mkdir(train_dir_class_i)\n",
    "    if not os.path.exists(test_dir_class_i):\n",
    "        os.mkdir(test_dir_class_i)"
   ]
  },
  {
   "cell_type": "code",
   "execution_count": 17,
   "metadata": {},
   "outputs": [],
   "source": [
    "FIBROBLAST_SUB_DIR_TRAIN = TRAIN_DIR + '/0'\n",
    "FIBROBLAST_SUB_DIR_TEST =  TEST_DIR + '/0'\n",
    "\n",
    "INFLAMATORY_SUB_DIR_TRAIN = TRAIN_DIR + '/1'\n",
    "INFLAMATORY_SUB_DIR_TEST = TEST_DIR + '/1'\n",
    "\n",
    "EPITHELIAL_SUB_DIR_TRAIN = TRAIN_DIR + '/2'\n",
    "EPITHELIAL_SUB_DIR_TEST = TEST_DIR + '/2'\n",
    "\n",
    "OTHERS_SUB_DIR_TRAIN = TRAIN_DIR + '/3'\n",
    "OTHERS_SUB_DIR_TEST = TEST_DIR + '/3'"
   ]
  },
  {
   "cell_type": "code",
   "execution_count": 23,
   "metadata": {},
   "outputs": [],
   "source": [
    "#Function to split source data into training/testing by split_size\n",
    "def split_data(SOURCE, TRAINING, TESTING, SPLIT_SIZE):\n",
    "    files = os.listdir(SOURCE)\n",
    "    randomized_files = random.sample(files, len(files))\n",
    "    for i in range(int(SPLIT_SIZE * len(randomized_files))):\n",
    "        copyfile(SOURCE + '/' + randomized_files[i], \n",
    "                 TRAINING + '/'+ randomized_files[i]\n",
    "                )\n",
    "    for i in range(int(SPLIT_SIZE * len(randomized_files)), len(randomized_files)):\n",
    "        copyfile(SOURCE + '/' + randomized_files[i], \n",
    "                 TESTING + '/' + randomized_files[i]\n",
    "                )\n",
    "\n",
    "# source_dir = os.path.join(VM_DIR, 'img')\n",
    "split_size = .8\n",
    "for i in range(no_classes):\n",
    "    class_i_source_dir = CELL_TYPE_SOURCE_DIR + '/' + str(i)\n",
    "    class_i_training_dir = TRAIN_DIR + '/' + str(i)\n",
    "    class_i_test_dir = TEST_DIR + '/' + str(i)\n",
    "    split_data(class_i_source_dir, class_i_training_dir, class_i_test_dir, split_size)"
   ]
  },
  {
   "cell_type": "markdown",
   "metadata": {},
   "source": [
    "## Create data directory for isCancerous classification problem|"
   ]
  },
  {
   "cell_type": "code",
   "execution_count": null,
   "metadata": {},
   "outputs": [],
   "source": [
    "IS_CANCEROUS_DIR = '/is_cancerous'"
   ]
  },
  {
   "cell_type": "code",
   "execution_count": null,
   "metadata": {},
   "outputs": [],
   "source": [
    "POSITIVE_CANCEROUS_DIR = '/0'\n",
    "NEGATIVE_CANCEROUS_DIR = '/1'"
   ]
  },
  {
   "cell_type": "code",
   "execution_count": null,
   "metadata": {},
   "outputs": [],
   "source": []
  },
  {
   "cell_type": "code",
   "execution_count": null,
   "metadata": {},
   "outputs": [],
   "source": []
  },
  {
   "cell_type": "code",
   "execution_count": null,
   "metadata": {},
   "outputs": [],
   "source": []
  },
  {
   "cell_type": "code",
   "execution_count": null,
   "metadata": {},
   "outputs": [],
   "source": []
  },
  {
   "cell_type": "code",
   "execution_count": null,
   "metadata": {},
   "outputs": [],
   "source": []
  },
  {
   "cell_type": "code",
   "execution_count": null,
   "metadata": {},
   "outputs": [],
   "source": []
  },
  {
   "cell_type": "code",
   "execution_count": null,
   "metadata": {},
   "outputs": [],
   "source": []
  },
  {
   "cell_type": "code",
   "execution_count": null,
   "metadata": {},
   "outputs": [],
   "source": []
  },
  {
   "cell_type": "code",
   "execution_count": null,
   "metadata": {},
   "outputs": [],
   "source": []
  },
  {
   "cell_type": "code",
   "execution_count": null,
   "metadata": {},
   "outputs": [],
   "source": []
  },
  {
   "cell_type": "code",
   "execution_count": null,
   "metadata": {},
   "outputs": [],
   "source": []
  },
  {
   "cell_type": "code",
   "execution_count": null,
   "metadata": {},
   "outputs": [],
   "source": []
  },
  {
   "cell_type": "code",
   "execution_count": null,
   "metadata": {},
   "outputs": [],
   "source": []
  }
 ],
 "metadata": {
  "kernelspec": {
   "display_name": "Python 3",
   "language": "python",
   "name": "python3"
  },
  "language_info": {
   "codemirror_mode": {
    "name": "ipython",
    "version": 3
   },
   "file_extension": ".py",
   "mimetype": "text/x-python",
   "name": "python",
   "nbconvert_exporter": "python",
   "pygments_lexer": "ipython3",
   "version": "3.7.4"
  }
 },
 "nbformat": 4,
 "nbformat_minor": 5
}
